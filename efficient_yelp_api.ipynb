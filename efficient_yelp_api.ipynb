{
 "cells": [
  {
   "cell_type": "markdown",
   "metadata": {},
   "source": [
    "# Efficient Yelp API Calls by Wesley Giles"
   ]
  },
  {
   "cell_type": "markdown",
   "metadata": {},
   "source": [
    "## Import necessary modules and environment variables"
   ]
  },
  {
   "cell_type": "code",
   "execution_count": 1,
   "metadata": {},
   "outputs": [
    {
     "data": {
      "text/plain": [
       "True"
      ]
     },
     "execution_count": 1,
     "metadata": {},
     "output_type": "execute_result"
    }
   ],
   "source": [
    "import numpy as np\n",
    "import pandas as pd\n",
    "import matplotlib.pyplot as plt\n",
    "import seaborn as sns\n",
    "import os, json, math, time\n",
    "from yelpapi import YelpAPI\n",
    "from tqdm.notebook import tqdm_notebook\n",
    "from dotenv import load_dotenv\n",
    "load_dotenv()"
   ]
  },
  {
   "cell_type": "markdown",
   "metadata": {},
   "source": [
    "## Now to create the Yelp Client"
   ]
  },
  {
   "cell_type": "code",
   "execution_count": 3,
   "metadata": {},
   "outputs": [
    {
     "data": {
      "text/plain": [
       "<yelpapi.yelpapi.YelpAPI at 0x1342497bf10>"
      ]
     },
     "execution_count": 3,
     "metadata": {},
     "output_type": "execute_result"
    }
   ],
   "source": [
    "yelp = YelpAPI(os.environ[\"YELP_API_KEY\"],timeout_s=5.0)\n",
    "yelp"
   ]
  },
  {
   "cell_type": "markdown",
   "metadata": {},
   "source": [
    "## Make the file path for the json file"
   ]
  },
  {
   "cell_type": "code",
   "execution_count": 11,
   "metadata": {},
   "outputs": [],
   "source": [
    "def add_results(file_name,location,term):\n",
    "  try:\n",
    "    os.makedirs(\"./data/\")\n",
    "  except:\n",
    "    pass\n",
    "  path = f\"./data/{file_name}\"\n",
    "  try:\n",
    "    with open(path,\"r\") as f:\n",
    "      results = json.load(f)\n",
    "  except:\n",
    "    print(\"Initializing new file as empty list\")\n",
    "    with open(path,\"w\") as f:\n",
    "      f.writelines([\"[]\"])\n",
    "      results = []\n",
    "  new_results = yelp.search_query(location=location,\n",
    "                                  term=term,\n",
    "                                  offset=len(results))\n",
    "  page_amount = len(new_results[\"businesses\"])\n",
    "  num_pages = math.ceil((new_results[\"total\"] - len(results)) / page_amount)\n",
    "  for i in tqdm_notebook(range(num_pages)):\n",
    "    time.sleep(0.2)\n",
    "    with open(path,\"w\") as f:\n",
    "      results.extend(new_results[\"businesses\"])\n",
    "      json.dump(results,f)\n",
    "      new_results = yelp.search_query(location=location,\n",
    "                                  term=term,\n",
    "                                  offset=len(results))\n",
    "  return results"
   ]
  },
  {
   "cell_type": "code",
   "execution_count": 12,
   "metadata": {},
   "outputs": [
    {
     "name": "stdout",
     "output_type": "stream",
     "text": [
      "Initializing new file as empty list\n"
     ]
    },
    {
     "data": {
      "application/vnd.jupyter.widget-view+json": {
       "model_id": "8d932687392d4f31977ccf7d29fce0ef",
       "version_major": 2,
       "version_minor": 0
      },
      "text/plain": [
       "  0%|          | 0/1 [00:00<?, ?it/s]"
      ]
     },
     "metadata": {},
     "output_type": "display_data"
    }
   ],
   "source": [
    "add_results(\"results.json\",\"43017\",\"Restauraunt\")"
   ]
  },
  {
   "cell_type": "code",
   "execution_count": null,
   "metadata": {},
   "outputs": [],
   "source": []
  }
 ],
 "metadata": {
  "kernelspec": {
   "display_name": "Python 3.8.13 ('dojo-env')",
   "language": "python",
   "name": "python3"
  },
  "language_info": {
   "codemirror_mode": {
    "name": "ipython",
    "version": 3
   },
   "file_extension": ".py",
   "mimetype": "text/x-python",
   "name": "python",
   "nbconvert_exporter": "python",
   "pygments_lexer": "ipython3",
   "version": "3.8.13"
  },
  "orig_nbformat": 4,
  "vscode": {
   "interpreter": {
    "hash": "661f384993e7af2199a9e46f7a4b354ce0ffd5536686df023fd6891aae52091c"
   }
  }
 },
 "nbformat": 4,
 "nbformat_minor": 2
}
