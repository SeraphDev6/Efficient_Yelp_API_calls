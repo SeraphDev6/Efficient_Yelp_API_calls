{
 "cells": [
  {
   "cell_type": "markdown",
   "metadata": {},
   "source": [
    "# Efficient Yelp API Calls by Wesley Giles"
   ]
  },
  {
   "cell_type": "markdown",
   "metadata": {},
   "source": [
    "## Import necessary modules and environment variables"
   ]
  },
  {
   "cell_type": "code",
   "execution_count": 1,
   "metadata": {},
   "outputs": [
    {
     "data": {
      "text/plain": [
       "True"
      ]
     },
     "execution_count": 1,
     "metadata": {},
     "output_type": "execute_result"
    }
   ],
   "source": [
    "import numpy as np\n",
    "import pandas as pd\n",
    "import matplotlib.pyplot as plt\n",
    "import seaborn as sns\n",
    "import os, json, math, time\n",
    "from yelpapi import YelpAPI\n",
    "from tqdm.notebook import tqdm_notebook\n",
    "from dotenv import load_dotenv\n",
    "load_dotenv()"
   ]
  },
  {
   "cell_type": "markdown",
   "metadata": {},
   "source": [
    "## Now to create the Yelp Client"
   ]
  },
  {
   "cell_type": "code",
   "execution_count": 3,
   "metadata": {},
   "outputs": [
    {
     "data": {
      "text/plain": [
       "<yelpapi.yelpapi.YelpAPI at 0x1342497bf10>"
      ]
     },
     "execution_count": 3,
     "metadata": {},
     "output_type": "execute_result"
    }
   ],
   "source": [
    "yelp = YelpAPI(os.environ[\"YELP_API_KEY\"],timeout_s=5.0)\n",
    "yelp"
   ]
  },
  {
   "cell_type": "markdown",
   "metadata": {},
   "source": [
    "## Make the file path for the json file"
   ]
  },
  {
   "cell_type": "code",
   "execution_count": 14,
   "metadata": {},
   "outputs": [],
   "source": [
    "def add_results(file_name,location,term):\n",
    "  try:\n",
    "    os.makedirs(\"./data/\")\n",
    "  except:\n",
    "    pass\n",
    "  path = f\"./data/{file_name}\"\n",
    "  try:\n",
    "    with open(path,\"r\") as f:\n",
    "      results = json.load(f)\n",
    "  except:\n",
    "    print(\"Initializing new file as empty list\")\n",
    "    with open(path,\"w\") as f:\n",
    "      f.writelines([\"[]\"])\n",
    "      results = []\n",
    "  new_results = yelp.search_query(location=location,\n",
    "                                  term=term,\n",
    "                                  offset=len(results))\n",
    "  page_amount = len(new_results[\"businesses\"])\n",
    "  num_pages = math.ceil((new_results[\"total\"] - len(results)) / page_amount)\n",
    "  for i in tqdm_notebook(range(num_pages)):\n",
    "    time.sleep(0.2)\n",
    "    with open(path,\"w\") as f:\n",
    "      results.extend(new_results[\"businesses\"])\n",
    "      json.dump(results,f)\n",
    "      new_results = yelp.search_query(location=location,\n",
    "                                  term=term,\n",
    "                                  offset=len(results))\n",
    "  return results"
   ]
  },
  {
   "cell_type": "code",
   "execution_count": 19,
   "metadata": {},
   "outputs": [
    {
     "name": "stdout",
     "output_type": "stream",
     "text": [
      "Initializing new file as empty list\n"
     ]
    },
    {
     "data": {
      "application/vnd.jupyter.widget-view+json": {
       "model_id": "756b43dd241c47f598a5acfc26a9375b",
       "version_major": 2,
       "version_minor": 0
      },
      "text/plain": [
       "  0%|          | 0/1 [00:00<?, ?it/s]"
      ]
     },
     "metadata": {},
     "output_type": "display_data"
    },
    {
     "data": {
      "text/plain": [
       "14"
      ]
     },
     "execution_count": 19,
     "metadata": {},
     "output_type": "execute_result"
    }
   ],
   "source": [
    "len(add_results(\"results.json\",\"43017\",\"Restauraunt\"))"
   ]
  },
  {
   "cell_type": "code",
   "execution_count": 20,
   "metadata": {},
   "outputs": [
    {
     "data": {
      "application/vnd.jupyter.widget-view+json": {
       "model_id": "632953061acb44d2a90dc00beb050bb4",
       "version_major": 2,
       "version_minor": 0
      },
      "text/plain": [
       "  0%|          | 0/29 [00:00<?, ?it/s]"
      ]
     },
     "metadata": {},
     "output_type": "display_data"
    },
    {
     "data": {
      "text/plain": [
       "577"
      ]
     },
     "execution_count": 20,
     "metadata": {},
     "output_type": "execute_result"
    }
   ],
   "source": [
    "len(add_results(\"results.json\",\"43017\",\"Fast Food\"))\n"
   ]
  },
  {
   "cell_type": "markdown",
   "metadata": {},
   "source": [
    "## Now to export it to a dataframe"
   ]
  },
  {
   "cell_type": "code",
   "execution_count": 21,
   "metadata": {},
   "outputs": [
    {
     "data": {
      "text/html": [
       "<div>\n",
       "<style scoped>\n",
       "    .dataframe tbody tr th:only-of-type {\n",
       "        vertical-align: middle;\n",
       "    }\n",
       "\n",
       "    .dataframe tbody tr th {\n",
       "        vertical-align: top;\n",
       "    }\n",
       "\n",
       "    .dataframe thead th {\n",
       "        text-align: right;\n",
       "    }\n",
       "</style>\n",
       "<table border=\"1\" class=\"dataframe\">\n",
       "  <thead>\n",
       "    <tr style=\"text-align: right;\">\n",
       "      <th></th>\n",
       "      <th>id</th>\n",
       "      <th>alias</th>\n",
       "      <th>name</th>\n",
       "      <th>image_url</th>\n",
       "      <th>is_closed</th>\n",
       "      <th>url</th>\n",
       "      <th>review_count</th>\n",
       "      <th>categories</th>\n",
       "      <th>rating</th>\n",
       "      <th>coordinates</th>\n",
       "      <th>transactions</th>\n",
       "      <th>location</th>\n",
       "      <th>phone</th>\n",
       "      <th>display_phone</th>\n",
       "      <th>distance</th>\n",
       "      <th>price</th>\n",
       "    </tr>\n",
       "  </thead>\n",
       "  <tbody>\n",
       "    <tr>\n",
       "      <th>0</th>\n",
       "      <td>n0elRo8l89L__9iqyFXJWw</td>\n",
       "      <td>the-pearl-dublin</td>\n",
       "      <td>The Pearl</td>\n",
       "      <td>https://s3-media4.fl.yelpcdn.com/bphoto/fSzRZO...</td>\n",
       "      <td>False</td>\n",
       "      <td>https://www.yelp.com/biz/the-pearl-dublin?adju...</td>\n",
       "      <td>166</td>\n",
       "      <td>[{'alias': 'newamerican', 'title': 'American (...</td>\n",
       "      <td>4.5</td>\n",
       "      <td>{'latitude': 40.10152, 'longitude': -83.113805}</td>\n",
       "      <td>[]</td>\n",
       "      <td>{'address1': '88 N High St', 'address2': None,...</td>\n",
       "      <td>+16146956255</td>\n",
       "      <td>(614) 695-6255</td>\n",
       "      <td>2395.191348</td>\n",
       "      <td>NaN</td>\n",
       "    </tr>\n",
       "    <tr>\n",
       "      <th>1</th>\n",
       "      <td>tK_pr-xqHiWwdN3wrsW4aA</td>\n",
       "      <td>the-rail-dublin-dublin</td>\n",
       "      <td>The Rail - Dublin</td>\n",
       "      <td>https://s3-media1.fl.yelpcdn.com/bphoto/R5BXuf...</td>\n",
       "      <td>False</td>\n",
       "      <td>https://www.yelp.com/biz/the-rail-dublin-dubli...</td>\n",
       "      <td>537</td>\n",
       "      <td>[{'alias': 'burgers', 'title': 'Burgers'}, {'a...</td>\n",
       "      <td>4.0</td>\n",
       "      <td>{'latitude': 40.07318, 'longitude': -83.122015}</td>\n",
       "      <td>[delivery, pickup]</td>\n",
       "      <td>{'address1': '5839 Frantz Rd', 'address2': Non...</td>\n",
       "      <td>+16147253200</td>\n",
       "      <td>(614) 725-3200</td>\n",
       "      <td>5388.739953</td>\n",
       "      <td>$$</td>\n",
       "    </tr>\n",
       "    <tr>\n",
       "      <th>2</th>\n",
       "      <td>JCpnFNhJR11jTKERdRL5hw</td>\n",
       "      <td>bakersfield-columbus</td>\n",
       "      <td>Bakersfield</td>\n",
       "      <td>https://s3-media1.fl.yelpcdn.com/bphoto/jFM7CG...</td>\n",
       "      <td>False</td>\n",
       "      <td>https://www.yelp.com/biz/bakersfield-columbus?...</td>\n",
       "      <td>735</td>\n",
       "      <td>[{'alias': 'bars', 'title': 'Bars'}, {'alias':...</td>\n",
       "      <td>4.0</td>\n",
       "      <td>{'latitude': 39.97733, 'longitude': -83.00374}</td>\n",
       "      <td>[delivery]</td>\n",
       "      <td>{'address1': '733 N High St', 'address2': '', ...</td>\n",
       "      <td>+16147548436</td>\n",
       "      <td>(614) 754-8436</td>\n",
       "      <td>19024.971809</td>\n",
       "      <td>$$</td>\n",
       "    </tr>\n",
       "    <tr>\n",
       "      <th>3</th>\n",
       "      <td>hSNMWcc63YvTWLf22pt5xA</td>\n",
       "      <td>kitchen-social-columbus</td>\n",
       "      <td>Kitchen Social</td>\n",
       "      <td>https://s3-media1.fl.yelpcdn.com/bphoto/AD95dG...</td>\n",
       "      <td>False</td>\n",
       "      <td>https://www.yelp.com/biz/kitchen-social-columb...</td>\n",
       "      <td>610</td>\n",
       "      <td>[{'alias': 'cocktailbars', 'title': 'Cocktail ...</td>\n",
       "      <td>4.5</td>\n",
       "      <td>{'latitude': 40.14759, 'longitude': -82.97463}</td>\n",
       "      <td>[delivery]</td>\n",
       "      <td>{'address1': '8954 Lyra Dr', 'address2': '', '...</td>\n",
       "      <td>+16145058492</td>\n",
       "      <td>(614) 505-8492</td>\n",
       "      <td>13032.365346</td>\n",
       "      <td>$$</td>\n",
       "    </tr>\n",
       "    <tr>\n",
       "      <th>4</th>\n",
       "      <td>NprP2naEmVi9-KpDTNr2gA</td>\n",
       "      <td>benihana-columbus</td>\n",
       "      <td>Benihana</td>\n",
       "      <td>https://s3-media3.fl.yelpcdn.com/bphoto/X9am0t...</td>\n",
       "      <td>False</td>\n",
       "      <td>https://www.yelp.com/biz/benihana-columbus?adj...</td>\n",
       "      <td>310</td>\n",
       "      <td>[{'alias': 'japanese', 'title': 'Japanese'}]</td>\n",
       "      <td>2.5</td>\n",
       "      <td>{'latitude': 40.1446152, 'longitude': -82.9758...</td>\n",
       "      <td>[delivery, pickup]</td>\n",
       "      <td>{'address1': '8781 Lyra Dr', 'address2': '', '...</td>\n",
       "      <td>+16144363705</td>\n",
       "      <td>(614) 436-3705</td>\n",
       "      <td>12726.178259</td>\n",
       "      <td>$$</td>\n",
       "    </tr>\n",
       "  </tbody>\n",
       "</table>\n",
       "</div>"
      ],
      "text/plain": [
       "                       id                    alias               name  \\\n",
       "0  n0elRo8l89L__9iqyFXJWw         the-pearl-dublin          The Pearl   \n",
       "1  tK_pr-xqHiWwdN3wrsW4aA   the-rail-dublin-dublin  The Rail - Dublin   \n",
       "2  JCpnFNhJR11jTKERdRL5hw     bakersfield-columbus        Bakersfield   \n",
       "3  hSNMWcc63YvTWLf22pt5xA  kitchen-social-columbus     Kitchen Social   \n",
       "4  NprP2naEmVi9-KpDTNr2gA        benihana-columbus           Benihana   \n",
       "\n",
       "                                           image_url  is_closed  \\\n",
       "0  https://s3-media4.fl.yelpcdn.com/bphoto/fSzRZO...      False   \n",
       "1  https://s3-media1.fl.yelpcdn.com/bphoto/R5BXuf...      False   \n",
       "2  https://s3-media1.fl.yelpcdn.com/bphoto/jFM7CG...      False   \n",
       "3  https://s3-media1.fl.yelpcdn.com/bphoto/AD95dG...      False   \n",
       "4  https://s3-media3.fl.yelpcdn.com/bphoto/X9am0t...      False   \n",
       "\n",
       "                                                 url  review_count  \\\n",
       "0  https://www.yelp.com/biz/the-pearl-dublin?adju...           166   \n",
       "1  https://www.yelp.com/biz/the-rail-dublin-dubli...           537   \n",
       "2  https://www.yelp.com/biz/bakersfield-columbus?...           735   \n",
       "3  https://www.yelp.com/biz/kitchen-social-columb...           610   \n",
       "4  https://www.yelp.com/biz/benihana-columbus?adj...           310   \n",
       "\n",
       "                                          categories  rating  \\\n",
       "0  [{'alias': 'newamerican', 'title': 'American (...     4.5   \n",
       "1  [{'alias': 'burgers', 'title': 'Burgers'}, {'a...     4.0   \n",
       "2  [{'alias': 'bars', 'title': 'Bars'}, {'alias':...     4.0   \n",
       "3  [{'alias': 'cocktailbars', 'title': 'Cocktail ...     4.5   \n",
       "4       [{'alias': 'japanese', 'title': 'Japanese'}]     2.5   \n",
       "\n",
       "                                         coordinates        transactions  \\\n",
       "0    {'latitude': 40.10152, 'longitude': -83.113805}                  []   \n",
       "1    {'latitude': 40.07318, 'longitude': -83.122015}  [delivery, pickup]   \n",
       "2     {'latitude': 39.97733, 'longitude': -83.00374}          [delivery]   \n",
       "3     {'latitude': 40.14759, 'longitude': -82.97463}          [delivery]   \n",
       "4  {'latitude': 40.1446152, 'longitude': -82.9758...  [delivery, pickup]   \n",
       "\n",
       "                                            location         phone  \\\n",
       "0  {'address1': '88 N High St', 'address2': None,...  +16146956255   \n",
       "1  {'address1': '5839 Frantz Rd', 'address2': Non...  +16147253200   \n",
       "2  {'address1': '733 N High St', 'address2': '', ...  +16147548436   \n",
       "3  {'address1': '8954 Lyra Dr', 'address2': '', '...  +16145058492   \n",
       "4  {'address1': '8781 Lyra Dr', 'address2': '', '...  +16144363705   \n",
       "\n",
       "    display_phone      distance price  \n",
       "0  (614) 695-6255   2395.191348   NaN  \n",
       "1  (614) 725-3200   5388.739953    $$  \n",
       "2  (614) 754-8436  19024.971809    $$  \n",
       "3  (614) 505-8492  13032.365346    $$  \n",
       "4  (614) 436-3705  12726.178259    $$  "
      ]
     },
     "execution_count": 21,
     "metadata": {},
     "output_type": "execute_result"
    }
   ],
   "source": [
    "df = pd.read_json(\"./data/results.json\")\n",
    "df.head()"
   ]
  },
  {
   "cell_type": "code",
   "execution_count": 23,
   "metadata": {},
   "outputs": [
    {
     "data": {
      "text/plain": [
       "9"
      ]
     },
     "execution_count": 23,
     "metadata": {},
     "output_type": "execute_result"
    }
   ],
   "source": [
    "df.duplicated(subset=[\"id\"]).sum()"
   ]
  },
  {
   "cell_type": "code",
   "execution_count": 25,
   "metadata": {},
   "outputs": [
    {
     "data": {
      "text/plain": [
       "0"
      ]
     },
     "execution_count": 25,
     "metadata": {},
     "output_type": "execute_result"
    }
   ],
   "source": [
    "df.drop_duplicates(subset=[\"id\"], inplace = True)\n",
    "df.duplicated(subset=[\"id\"]).sum()"
   ]
  },
  {
   "cell_type": "code",
   "execution_count": 26,
   "metadata": {},
   "outputs": [],
   "source": [
    "df.to_csv(\"./data/results.csv.gz\", compression=\"gzip\", index = False)"
   ]
  }
 ],
 "metadata": {
  "kernelspec": {
   "display_name": "Python 3.8.13 ('dojo-env')",
   "language": "python",
   "name": "python3"
  },
  "language_info": {
   "codemirror_mode": {
    "name": "ipython",
    "version": 3
   },
   "file_extension": ".py",
   "mimetype": "text/x-python",
   "name": "python",
   "nbconvert_exporter": "python",
   "pygments_lexer": "ipython3",
   "version": "3.8.13"
  },
  "orig_nbformat": 4,
  "vscode": {
   "interpreter": {
    "hash": "661f384993e7af2199a9e46f7a4b354ce0ffd5536686df023fd6891aae52091c"
   }
  }
 },
 "nbformat": 4,
 "nbformat_minor": 2
}
